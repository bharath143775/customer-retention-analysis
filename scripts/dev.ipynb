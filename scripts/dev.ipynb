{
 "cells": [
  {
   "cell_type": "code",
   "execution_count": 16,
   "id": "832e79c0",
   "metadata": {},
   "outputs": [],
   "source": [
    "#Learn from scratch\n",
    "#import libraries for scripts\n",
    "import pandas as pd #used for data\n",
    "import numpy as np #used for math calculations\n",
    "import matplotlib.pyplot as plt # used for visualizations\n",
    "import seaborn as sns #for enhanced visuals"
   ]
  },
  {
   "cell_type": "code",
   "execution_count": 6,
   "id": "43a0a8ae",
   "metadata": {},
   "outputs": [
    {
     "name": "stdout",
     "output_type": "stream",
     "text": [
      "Dataset created with 300 customers.\n"
     ]
    }
   ],
   "source": [
    "#generate a random dataset\n",
    "np.random.seed(42) #for reproducibility\n",
    "n = 300 #number of customers\n",
    "data = pd.DataFrame({\n",
    "    'CustomerID': np.arange(1,n+1),\n",
    "    'Count of Orders': np.random.poisson(5, n), #randomly generated order counts\n",
    "    'Average Order Value': np.random.normal(loc=600, scale=100, size=n), #randomly generated average order values\n",
    "    'Last order diff': np.random.randint(1,180,n) #randomly generated last order dates\n",
    "})\n",
    "print(\"Dataset created with {} customers.\".format(n))"
   ]
  },
  {
   "cell_type": "code",
   "execution_count": 11,
   "id": "888eb186",
   "metadata": {},
   "outputs": [
    {
     "name": "stdout",
     "output_type": "stream",
     "text": [
      "   CustomerID  Count of Orders  Average Order Value  Last order diff  Churn\n",
      "0           1                5           480.870986               21      0\n",
      "1           2                4           606.268540              156      0\n",
      "2           3                4           608.864670              161      0\n",
      "3           4                5           772.212861              163      0\n",
      "4           5                5           577.101714               34      0\n"
     ]
    },
    {
     "data": {
      "text/html": [
       "<div>\n",
       "<style scoped>\n",
       "    .dataframe tbody tr th:only-of-type {\n",
       "        vertical-align: middle;\n",
       "    }\n",
       "\n",
       "    .dataframe tbody tr th {\n",
       "        vertical-align: top;\n",
       "    }\n",
       "\n",
       "    .dataframe thead th {\n",
       "        text-align: right;\n",
       "    }\n",
       "</style>\n",
       "<table border=\"1\" class=\"dataframe\">\n",
       "  <thead>\n",
       "    <tr style=\"text-align: right;\">\n",
       "      <th></th>\n",
       "      <th>CustomerID</th>\n",
       "      <th>Count of Orders</th>\n",
       "      <th>Average Order Value</th>\n",
       "      <th>Last order diff</th>\n",
       "      <th>Churn</th>\n",
       "    </tr>\n",
       "  </thead>\n",
       "  <tbody>\n",
       "    <tr>\n",
       "      <th>count</th>\n",
       "      <td>300.000000</td>\n",
       "      <td>300.000000</td>\n",
       "      <td>300.000000</td>\n",
       "      <td>300.000000</td>\n",
       "      <td>300.000000</td>\n",
       "    </tr>\n",
       "    <tr>\n",
       "      <th>mean</th>\n",
       "      <td>150.500000</td>\n",
       "      <td>4.963333</td>\n",
       "      <td>603.150141</td>\n",
       "      <td>92.983333</td>\n",
       "      <td>0.076667</td>\n",
       "    </tr>\n",
       "    <tr>\n",
       "      <th>std</th>\n",
       "      <td>86.746758</td>\n",
       "      <td>2.225270</td>\n",
       "      <td>95.410688</td>\n",
       "      <td>53.405839</td>\n",
       "      <td>0.266506</td>\n",
       "    </tr>\n",
       "    <tr>\n",
       "      <th>min</th>\n",
       "      <td>1.000000</td>\n",
       "      <td>1.000000</td>\n",
       "      <td>312.871734</td>\n",
       "      <td>1.000000</td>\n",
       "      <td>0.000000</td>\n",
       "    </tr>\n",
       "    <tr>\n",
       "      <th>25%</th>\n",
       "      <td>75.750000</td>\n",
       "      <td>3.000000</td>\n",
       "      <td>539.139625</td>\n",
       "      <td>46.750000</td>\n",
       "      <td>0.000000</td>\n",
       "    </tr>\n",
       "    <tr>\n",
       "      <th>50%</th>\n",
       "      <td>150.500000</td>\n",
       "      <td>5.000000</td>\n",
       "      <td>606.822775</td>\n",
       "      <td>90.500000</td>\n",
       "      <td>0.000000</td>\n",
       "    </tr>\n",
       "    <tr>\n",
       "      <th>75%</th>\n",
       "      <td>225.250000</td>\n",
       "      <td>6.000000</td>\n",
       "      <td>664.535580</td>\n",
       "      <td>142.000000</td>\n",
       "      <td>0.000000</td>\n",
       "    </tr>\n",
       "    <tr>\n",
       "      <th>max</th>\n",
       "      <td>300.000000</td>\n",
       "      <td>11.000000</td>\n",
       "      <td>866.318235</td>\n",
       "      <td>179.000000</td>\n",
       "      <td>1.000000</td>\n",
       "    </tr>\n",
       "  </tbody>\n",
       "</table>\n",
       "</div>"
      ],
      "text/plain": [
       "       CustomerID  Count of Orders  Average Order Value  Last order diff  \\\n",
       "count  300.000000       300.000000           300.000000       300.000000   \n",
       "mean   150.500000         4.963333           603.150141        92.983333   \n",
       "std     86.746758         2.225270            95.410688        53.405839   \n",
       "min      1.000000         1.000000           312.871734         1.000000   \n",
       "25%     75.750000         3.000000           539.139625        46.750000   \n",
       "50%    150.500000         5.000000           606.822775        90.500000   \n",
       "75%    225.250000         6.000000           664.535580       142.000000   \n",
       "max    300.000000        11.000000           866.318235       179.000000   \n",
       "\n",
       "            Churn  \n",
       "count  300.000000  \n",
       "mean     0.076667  \n",
       "std      0.266506  \n",
       "min      0.000000  \n",
       "25%      0.000000  \n",
       "50%      0.000000  \n",
       "75%      0.000000  \n",
       "max      1.000000  "
      ]
     },
     "execution_count": 11,
     "metadata": {},
     "output_type": "execute_result"
    }
   ],
   "source": [
    "#cretae a column called 'Churn' based on the last order date\n",
    "data['Churn'] = ((data['Last order diff'] > 90) & (data['Count of Orders'] < 3)).astype(int) #1 if churned, 0 if not\n",
    "#display the first 5 rows of the dataset\n",
    "print(data.head())\n",
    "data.describe() #display the summary statistics of the dataset"
   ]
  },
  {
   "cell_type": "code",
   "execution_count": 13,
   "id": "b921665a",
   "metadata": {},
   "outputs": [
    {
     "name": "stdout",
     "output_type": "stream",
     "text": [
      "Churn Rate: 7.67%\n"
     ]
    }
   ],
   "source": [
    "#churn rate\n",
    "churn_rate = data['Churn'].mean() * 100\n",
    "print(\"Churn Rate: {:.2f}%\".format(churn_rate))"
   ]
  },
  {
   "cell_type": "code",
   "execution_count": 17,
   "id": "bd47a3e3",
   "metadata": {},
   "outputs": [
    {
     "data": {
      "image/png": "[encoded data removed]",
      "text/plain": [
       "<Figure size 1000x600 with 1 Axes>"
      ]
     },
     "metadata": {},
     "output_type": "display_data"
    }
   ],
   "source": [
    "#visualize the churn rate\n",
    "plt.figure(figsize=(10, 6))\n",
    "sns.boxplot(x='Churn', y='Average Order Value', data=data)\n",
    "plt.title('Churn vs Average Order Value')\n",
    "plt.xlabel('Churn (1 = Churned, 0 = Not Churned)')\n",
    "plt.ylabel('Average Order Value')\n",
    "plt.show()"
   ]
  }
 ],
 "metadata": {
  "kernelspec": {
   "display_name": "base",
   "language": "python",
   "name": "python3"
  },
  "language_info": {
   "codemirror_mode": {
    "name": "ipython",
    "version": 3
   },
   "file_extension": ".py",
   "mimetype": "text/x-python",
   "name": "python",
   "nbconvert_exporter": "python",
   "pygments_lexer": "ipython3",
   "version": "3.9.21"
  }
 },
 "nbformat": 4,
 "nbformat_minor": 5
}
