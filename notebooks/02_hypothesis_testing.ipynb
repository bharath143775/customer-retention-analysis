{
 "cells": [
  {
   "cell_type": "code",
   "execution_count": 1,
   "id": "1280b0d3",
   "metadata": {},
   "outputs": [],
   "source": [
    "# 📓 Customer Retention Analysis: 02_hypothesis_testing.ipynb\n",
    "\n",
    "## 1. Imports\n",
    "import pandas as pd\n",
    "import numpy as np\n",
    "from scipy.stats import ttest_ind, chi2_contingency\n",
    "import seaborn as sns\n",
    "import matplotlib.pyplot as plt\n",
    "\n",
    "## 2. Load Data\n",
    "data = pd.read_csv(\"../data/processed/customer_data.csv\")\n"
   ]
  },
  {
   "cell_type": "code",
   "execution_count": 2,
   "id": "6016c251",
   "metadata": {},
   "outputs": [
    {
     "name": "stdout",
     "output_type": "stream",
     "text": [
      "🔍 T-Test: Average Order Value\n",
      "T-statistic: 0.258\n",
      "P-value: 0.7965\n",
      "❌ Not statistically significant\n"
     ]
    }
   ],
   "source": [
    "\n",
    "## 3. T-test: AvgOrderValue between Churned & Retained\n",
    "\n",
    "# Split groups\n",
    "churned = data[data[\"IsChurned\"] == 1]\n",
    "retained = data[data[\"IsChurned\"] == 0]\n",
    "\n",
    "# Perform independent t-test\n",
    "t_stat, p_val = ttest_ind(churned[\"AvgOrderValue\"], retained[\"AvgOrderValue\"], equal_var=False)\n",
    "\n",
    "# Result\n",
    "print(\"🔍 T-Test: Average Order Value\")\n",
    "print(f\"T-statistic: {t_stat:.3f}\")\n",
    "print(f\"P-value: {p_val:.4f}\")\n",
    "if p_val < 0.05:\n",
    "    print(\"✅ Statistically significant difference\")\n",
    "else:\n",
    "    print(\"❌ Not statistically significant\")\n",
    "\n"
   ]
  },
  {
   "cell_type": "code",
   "execution_count": 3,
   "id": "b11842ad",
   "metadata": {},
   "outputs": [
    {
     "name": "stdout",
     "output_type": "stream",
     "text": [
      "\n",
      "🔍 Chi-Square Test: Order Frequency vs Churn\n",
      "Chi-square statistic: 51.664\n",
      "P-value: 0.0000\n",
      "✅ Association is statistically significant\n"
     ]
    }
   ],
   "source": [
    "## 4. Chi-Square: TotalOrders Group vs IsChurned\n",
    "\n",
    "# Group total orders into bins\n",
    "data['OrderGroup'] = pd.cut(data['TotalOrders'], bins=[-1, 1, 3, 6, 10], labels=[\"0–1\", \"2–3\", \"4–6\", \"7–10\"])\n",
    "\n",
    "# Contingency table\n",
    "contingency = pd.crosstab(data['OrderGroup'], data['IsChurned'])\n",
    "\n",
    "# Chi-square test\n",
    "chi2, p_val_chi2, dof, expected = chi2_contingency(contingency)\n",
    "\n",
    "# Result\n",
    "print(\"\\n🔍 Chi-Square Test: Order Frequency vs Churn\")\n",
    "print(f\"Chi-square statistic: {chi2:.3f}\")\n",
    "print(f\"P-value: {p_val_chi2:.4f}\")\n",
    "if p_val_chi2 < 0.05:\n",
    "    print(\"✅ Association is statistically significant\")\n",
    "else:\n",
    "    print(\"❌ No significant association\")\n"
   ]
  },
  {
   "cell_type": "code",
   "execution_count": 4,
   "id": "4e3a9aef",
   "metadata": {},
   "outputs": [
    {
     "name": "stderr",
     "output_type": "stream",
     "text": [
      "C:\\Users\\bharath.thothireddy\\AppData\\Local\\Temp\\ipykernel_36548\\3253507114.py:2: FutureWarning: The default of observed=False is deprecated and will be changed to True in a future version of pandas. Pass observed=False to retain current behavior or observed=True to adopt the future default and silence this warning.\n",
      "  group_churn = data.groupby(\"OrderGroup\")[\"IsChurned\"].mean().reset_index()\n",
      "C:\\Users\\bharath.thothireddy\\AppData\\Local\\Temp\\ipykernel_36548\\3253507114.py:5: FutureWarning: \n",
      "\n",
      "Passing `palette` without assigning `hue` is deprecated and will be removed in v0.14.0. Assign the `x` variable to `hue` and set `legend=False` for the same effect.\n",
      "\n",
      "  sns.barplot(data=group_churn, x=\"OrderGroup\", y=\"IsChurned\", palette=\"pastel\")\n"
     ]
    },
    {
     "data": {
      "image/png": "[encoded data removed]",
      "text/plain": [
       "<Figure size 700x500 with 1 Axes>"
      ]
     },
     "metadata": {},
     "output_type": "display_data"
    }
   ],
   "source": [
    "\n",
    "## 5. Visual: Churn Rate by Order Group\n",
    "group_churn = data.groupby(\"OrderGroup\")[\"IsChurned\"].mean().reset_index()\n",
    "\n",
    "plt.figure(figsize=(7, 5))\n",
    "sns.barplot(data=group_churn, x=\"OrderGroup\", y=\"IsChurned\", palette=\"pastel\")\n",
    "plt.title(\"Churn Rate by Order Frequency Group\")\n",
    "plt.ylabel(\"Churn Rate\")\n",
    "plt.xlabel(\"Total Orders Group\")\n",
    "plt.ylim(0, 1)\n",
    "plt.show()\n"
   ]
  }
 ],
 "metadata": {
  "kernelspec": {
   "display_name": "base",
   "language": "python",
   "name": "python3"
  },
  "language_info": {
   "codemirror_mode": {
    "name": "ipython",
    "version": 3
   },
   "file_extension": ".py",
   "mimetype": "text/x-python",
   "name": "python",
   "nbconvert_exporter": "python",
   "pygments_lexer": "ipython3",
   "version": "3.9.21"
  }
 },
 "nbformat": 4,
 "nbformat_minor": 5
}
