{
 "cells": [
  {
   "cell_type": "code",
   "execution_count": 1,
   "id": "a116d554",
   "metadata": {},
   "outputs": [],
   "source": [
    "# 📓 Customer Retention Analysis: 04_ab_testing.ipynb\n",
    "\n",
    "## 1. Imports\n",
    "import pandas as pd\n",
    "import numpy as np\n",
    "from scipy.stats import chi2_contingency\n",
    "import seaborn as sns\n",
    "import matplotlib.pyplot as plt\n"
   ]
  },
  {
   "cell_type": "code",
   "execution_count": 2,
   "id": "fa391cef",
   "metadata": {},
   "outputs": [],
   "source": [
    "\n",
    "sns.set(style=\"whitegrid\")\n",
    "np.random.seed(42)\n",
    "\n",
    "## 2. Simulate A/B Test Results\n",
    "# A: Reminder Email — assumed 30% retention\n",
    "# B: ₹100 Coupon — assumed 50% retention\n",
    "\n",
    "group_A = np.random.choice([1, 0], size=50, p=[0.30, 0.70])\n",
    "group_B = np.random.choice([1, 0], size=50, p=[0.50, 0.50])\n",
    "\n",
    "# Create a DataFrame\n",
    "ab_df = pd.DataFrame({\n",
    "    \"Campaign\": [\"Reminder Email\"] * 50 + [\"₹100 Coupon\"] * 50,\n",
    "    \"Returned\": np.concatenate([group_A, group_B])\n",
    "})\n"
   ]
  },
  {
   "cell_type": "code",
   "execution_count": 3,
   "id": "46903102",
   "metadata": {},
   "outputs": [
    {
     "data": {
      "text/html": [
       "<div>\n",
       "<style scoped>\n",
       "    .dataframe tbody tr th:only-of-type {\n",
       "        vertical-align: middle;\n",
       "    }\n",
       "\n",
       "    .dataframe tbody tr th {\n",
       "        vertical-align: top;\n",
       "    }\n",
       "\n",
       "    .dataframe thead th {\n",
       "        text-align: right;\n",
       "    }\n",
       "</style>\n",
       "<table border=\"1\" class=\"dataframe\">\n",
       "  <thead>\n",
       "    <tr style=\"text-align: right;\">\n",
       "      <th></th>\n",
       "      <th>Returned</th>\n",
       "      <th>Total</th>\n",
       "      <th>Retention Rate</th>\n",
       "    </tr>\n",
       "    <tr>\n",
       "      <th>Campaign</th>\n",
       "      <th></th>\n",
       "      <th></th>\n",
       "      <th></th>\n",
       "    </tr>\n",
       "  </thead>\n",
       "  <tbody>\n",
       "    <tr>\n",
       "      <th>Reminder Email</th>\n",
       "      <td>19</td>\n",
       "      <td>50</td>\n",
       "      <td>38.0</td>\n",
       "    </tr>\n",
       "    <tr>\n",
       "      <th>₹100 Coupon</th>\n",
       "      <td>25</td>\n",
       "      <td>50</td>\n",
       "      <td>50.0</td>\n",
       "    </tr>\n",
       "  </tbody>\n",
       "</table>\n",
       "</div>"
      ],
      "text/plain": [
       "                Returned  Total  Retention Rate\n",
       "Campaign                                       \n",
       "Reminder Email        19     50            38.0\n",
       "₹100 Coupon           25     50            50.0"
      ]
     },
     "metadata": {},
     "output_type": "display_data"
    },
    {
     "data": {
      "text/html": [
       "<div>\n",
       "<style scoped>\n",
       "    .dataframe tbody tr th:only-of-type {\n",
       "        vertical-align: middle;\n",
       "    }\n",
       "\n",
       "    .dataframe tbody tr th {\n",
       "        vertical-align: top;\n",
       "    }\n",
       "\n",
       "    .dataframe thead th {\n",
       "        text-align: right;\n",
       "    }\n",
       "</style>\n",
       "<table border=\"1\" class=\"dataframe\">\n",
       "  <thead>\n",
       "    <tr style=\"text-align: right;\">\n",
       "      <th>Returned</th>\n",
       "      <th>0</th>\n",
       "      <th>1</th>\n",
       "    </tr>\n",
       "    <tr>\n",
       "      <th>Campaign</th>\n",
       "      <th></th>\n",
       "      <th></th>\n",
       "    </tr>\n",
       "  </thead>\n",
       "  <tbody>\n",
       "    <tr>\n",
       "      <th>Reminder Email</th>\n",
       "      <td>31</td>\n",
       "      <td>19</td>\n",
       "    </tr>\n",
       "    <tr>\n",
       "      <th>₹100 Coupon</th>\n",
       "      <td>25</td>\n",
       "      <td>25</td>\n",
       "    </tr>\n",
       "  </tbody>\n",
       "</table>\n",
       "</div>"
      ],
      "text/plain": [
       "Returned         0   1\n",
       "Campaign              \n",
       "Reminder Email  31  19\n",
       "₹100 Coupon     25  25"
      ]
     },
     "metadata": {},
     "output_type": "display_data"
    },
    {
     "name": "stdout",
     "output_type": "stream",
     "text": [
      "\n",
      "🧪 Chi-square Test Result:\n",
      "Chi-square Statistic: 1.01\n",
      "P-value: 0.3138\n",
      "❌ No statistically significant difference.\n"
     ]
    }
   ],
   "source": [
    "\n",
    "## 3. Retention Rates by Campaign\n",
    "summary = ab_df.groupby(\"Campaign\")[\"Returned\"].agg([\"sum\", \"count\"])\n",
    "summary[\"Retention Rate\"] = round(summary[\"sum\"] / summary[\"count\"] * 100, 2)\n",
    "summary.rename(columns={\"sum\": \"Returned\", \"count\": \"Total\"}, inplace=True)\n",
    "display(summary)\n",
    "\n",
    "## 4. Create Contingency Table\n",
    "contingency = pd.crosstab(ab_df[\"Campaign\"], ab_df[\"Returned\"])\n",
    "display(contingency)\n",
    "\n",
    "## 5. Chi-square Test\n",
    "chi2, p_val, dof, expected = chi2_contingency(contingency)\n",
    "\n",
    "print(\"\\n🧪 Chi-square Test Result:\")\n",
    "print(f\"Chi-square Statistic: {chi2:.2f}\")\n",
    "print(f\"P-value: {p_val:.4f}\")\n",
    "if p_val < 0.05:\n",
    "    print(\"✅ Statistically significant difference in retention rates!\")\n",
    "else:\n",
    "    print(\"❌ No statistically significant difference.\")\n"
   ]
  },
  {
   "cell_type": "code",
   "execution_count": 4,
   "id": "e66308db",
   "metadata": {},
   "outputs": [
    {
     "name": "stderr",
     "output_type": "stream",
     "text": [
      "C:\\Users\\bharath.thothireddy\\AppData\\Local\\Temp\\ipykernel_28748\\3907267965.py:3: FutureWarning: \n",
      "\n",
      "The `ci` parameter is deprecated. Use `errorbar=None` for the same effect.\n",
      "\n",
      "  sns.barplot(data=ab_df, x=\"Campaign\", y=\"Returned\", ci=None)\n"
     ]
    },
    {
     "data": {
      "image/png": "[encoded data removed]",
      "text/plain": [
       "<Figure size 600x400 with 1 Axes>"
      ]
     },
     "metadata": {},
     "output_type": "display_data"
    }
   ],
   "source": [
    "\n",
    "## 6. Visual Comparison\n",
    "plt.figure(figsize=(6, 4))\n",
    "sns.barplot(data=ab_df, x=\"Campaign\", y=\"Returned\", ci=None)\n",
    "plt.title(\"Retention Rate by Campaign (Simulated A/B Test)\")\n",
    "plt.ylabel(\"Return Rate (0–1)\")\n",
    "plt.ylim(0, 1)\n",
    "plt.grid(axis=\"y\")\n",
    "plt.show()\n"
   ]
  }
 ],
 "metadata": {
  "kernelspec": {
   "display_name": "base",
   "language": "python",
   "name": "python3"
  },
  "language_info": {
   "codemirror_mode": {
    "name": "ipython",
    "version": 3
   },
   "file_extension": ".py",
   "mimetype": "text/x-python",
   "name": "python",
   "nbconvert_exporter": "python",
   "pygments_lexer": "ipython3",
   "version": "3.9.21"
  }
 },
 "nbformat": 4,
 "nbformat_minor": 5
}
